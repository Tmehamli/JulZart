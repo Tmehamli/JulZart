{
 "cells": [
  {
   "cell_type": "code",
   "execution_count": null,
   "metadata": {},
   "outputs": [],
   "source": [
    "import numpy as np # linear algebra\n",
    "import pandas as pd # data processing, CSV file I/O (e.g. pd.read_csv)\n",
    "import librosa\n",
    "from scipy.signal import spectrogram\n",
    "import matplotlib.pyplot as plt"
   ]
  },
  {
   "cell_type": "code",
   "execution_count": null,
   "metadata": {},
   "outputs": [],
   "source": [
    "df_train = pd.read_csv(\"/kaggle/input/enseirb-2019-2020-music-classification/train.csv\")\n",
    "df_test = pd.read_csv(\"/kaggle/input/enseirb-2019-2020-music-classification/test.csv\")\n",
    "df_genre = pd.read_csv(\"/kaggle/input/enseirb-2019-2020-music-classification/genres.csv\")"
   ]
  },
  {
   "cell_type": "code",
   "execution_count": null,
   "metadata": {},
   "outputs": [],
   "source": [
    "\n",
    "\n",
    "son1 = librosa.load('/kaggle/input/enseirb-2019-2020-music-classification/train/Train/000003.mp3')\n",
    "son2 = librosa.load('/kaggle/input/enseirb-2019-2020-music-classification/train/Train/000140.mp3')\n",
    "son3 = librosa.load('/kaggle/input/enseirb-2019-2020-music-classification/train/Train/000148.mp3')\n",
    "\n",
    "\n",
    "fs = 10e3\n",
    "_, _, spec1 = spectrogram(son1, fs)\n",
    "_, _, spec2 = spectrogram(son2, fs)\n",
    "_, _, spec3 = spectrogram(son3, fs)\n",
    "\n"
   ]
  },
  {
   "cell_type": "code",
   "execution_count": null,
   "metadata": {},
   "outputs": [],
   "source": [
    "spec1"
   ]
  },
  {
   "cell_type": "code",
   "execution_count": null,
   "metadata": {},
   "outputs": [],
   "source": []
  }
 ],
 "metadata": {
  "kernelspec": {
   "display_name": "Python 3",
   "language": "python",
   "name": "python3"
  },
  "language_info": {
   "codemirror_mode": {
    "name": "ipython",
    "version": 3
   },
   "file_extension": ".py",
   "mimetype": "text/x-python",
   "name": "python",
   "nbconvert_exporter": "python",
   "pygments_lexer": "ipython3",
   "version": "3.7.3"
  }
 },
 "nbformat": 4,
 "nbformat_minor": 2
}
